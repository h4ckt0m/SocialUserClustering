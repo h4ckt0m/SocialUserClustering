{
 "cells": [
  {
   "cell_type": "markdown",
   "metadata": {},
   "source": [
    "DEFINICIÓN DE FUNCIONES E IMPORTACIÓN DE LIBRERÍAS"
   ]
  },
  {
   "cell_type": "code",
   "execution_count": 1,
   "metadata": {},
   "outputs": [],
   "source": [
    "import networkx as nx\n",
    "import pandas as pd\n",
    "import json\n",
    "import numpy as np\n",
    "import matplotlib.pyplot as plt\n",
    "\n",
    "# Función de construcción de objetos tipo grafo\n",
    "def __build_graph(df, node_columns, directed=True, weigths=False):\n",
    "    \n",
    "    if directed is True:\n",
    "        G = nx.DiGraph()\n",
    "    else:\n",
    "        G = nx.Graph()\n",
    "\n",
    "    nodes = np.unique(df[node_columns].values)\n",
    "    for node in nodes:\n",
    "        G.add_node(node)\n",
    "\n",
    "    edges = [tuple(f) for f in df[node_columns].values]\n",
    "    edges_tuples, freq = np.unique(edges, axis=0, return_counts=True)\n",
    "\n",
    "    if weigths is True:\n",
    "        edges_weights = [tuple(list(edges_tuples[f]) + [freq[f]]) for f in range(len(edges_tuples))]\n",
    "        G.add_weighted_edges_from(edges_weights)\n",
    "        string = nx.info(G)\n",
    "        init_pos = string.find(\"Average degree\") + len(\"Average degree\") + 4\n",
    "        end_pos = init_pos + 6\n",
    "        string = string.replace(string[init_pos:end_pos], str(np.round(np.mean(list(dict(G.degree(weight=\"weight\")).values())),4)))\n",
    "    else:\n",
    "        G.add_edges_from(edges_tuples)\n",
    "        string = nx.info(G)\n",
    "    \n",
    "    print(string)\n",
    "    \n",
    "    return G\n",
    "\n",
    "\n",
    "# Función para muestra de gráficos mediante NetworkX\n",
    "def __plot_graph(G, layout=\"spring\", label=True, threshold=0):\n",
    "    \n",
    "    fig = plt.figure(figsize=(17,14))\n",
    "    fig.patch.set_facecolor('k') \n",
    "    fig.patch.set_alpha(0.15)\n",
    "\n",
    "    if layout == \"spring\":\n",
    "        pos=nx.layout.spring_layout(G)\n",
    "    else:\n",
    "        print(\"Only spring layout implemented.\")\n",
    "        return False\n",
    "    node_sizes = np.minimum(np.array(list(dict(G.degree(G.nodes())).values()))*25, 1000)\n",
    "\n",
    "    if not nx.get_edge_attributes(G,\"weight\"):\n",
    "        edge_colors = np.ones(len(G.edges)).astype(int)\n",
    "        weight = None\n",
    "    else:\n",
    "        edge_colors = np.minimum(np.array(list(nx.get_edge_attributes(G,'weight').values())), 100)\n",
    "        weight = \"weight\"\n",
    "        \n",
    "    if label is True:\n",
    "        node_list = G.nodes\n",
    "        G_node_dict = {}\n",
    "        degree_dict = dict(G.degree(weight=weight))\n",
    "        for rep_node in [f[0] for f in G.edges if f[0] == f[1]]: # Estos suman grado 2 a ese nodo\n",
    "            freq = 1\n",
    "            if weight == \"weight\":\n",
    "                freq = nx.get_edge_attributes(G, \"weight\")[(rep_node, rep_node)]\n",
    "            degree_dict[rep_node] -= 2*freq - 1\n",
    "        for nod in node_list:\n",
    "            if degree_dict[nod] >= threshold:\n",
    "                G_node_dict[nod] = nod  \n",
    "            else:\n",
    "                G_node_dict[nod] = \"\"\n",
    "            \n",
    "    else:\n",
    "        G_node_dict = None\n",
    "        \n",
    "    nodes = nx.draw_networkx_nodes(G, pos, node_size=node_sizes, node_color=\"blue\", label=G_node_dict, alpha=0.5)\n",
    "    if label is True:\n",
    "        nx.draw_networkx_labels(G, pos, labels=G_node_dict, font_size=11, font_color='k', font_weight=\"bold\")\n",
    "\n",
    "    edges = nx.draw_networkx_edges(\n",
    "        G,\n",
    "        pos,\n",
    "        node_size=node_sizes,\n",
    "        arrowstyle=\"->\" if G.is_directed() else \"-\",\n",
    "        arrowsize=20,\n",
    "        edge_color=edge_colors,\n",
    "        edge_cmap=plt.cm.Blues,\n",
    "        width=2,\n",
    "        edge_vmin=0,edge_vmax=100 \n",
    "    )\n",
    "\n",
    "    ax = plt.gca()\n",
    "    ax.set_axis_off()\n",
    "    plt.show()"
   ]
  },
  {
   "cell_type": "markdown",
   "metadata": {},
   "source": [
    "FILTRADOS PARA S2 GRUPO"
   ]
  },
  {
   "cell_type": "code",
   "execution_count": 2,
   "metadata": {},
   "outputs": [],
   "source": [
    "users_df = pd.read_json('data/users.json')\n",
    "users_clean_df = users_df.drop(columns=['_id', 'name', 'protected'])\n",
    "description_list = ['S2 Grupo', 's2grupo', 'securityartwork', 'Lab52', 'lab52']\n",
    "user_list = ['mjuan', 'antoniosanzalc', 'rarosell', 'nomed__1']\n",
    "s2_users = []\n",
    "s2_df = pd.DataFrame()\n",
    "\n",
    "#Se pasa el id para obtener lista y construir grafo con relaciones, si no sale vacio\n",
    "for i in description_list:\n",
    "    tmp_df = users_clean_df[users_clean_df['description'].str.contains(i)]\n",
    "    s2_df = s2_df.append(tmp_df, ignore_index=True)\n",
    "    tmp_list = tmp_df['id'].to_list()\n",
    "    s2_users = s2_users + tmp_list\n",
    "\n",
    "for j in user_list:\n",
    "    tmp_df = users_clean_df[users_clean_df['username'].isin(user_list)]\n",
    "    s2_df = s2_df.append(tmp_df, ignore_index=True)\n",
    "    tmp_list = tmp_df['id'].to_list()\n",
    "    s2_users = s2_users + tmp_list\n",
    "\n",
    "unique_s2_users = set(s2_users)\n",
    "s2_final_df  = s2_df.drop_duplicates(keep='first')"
   ]
  },
  {
   "cell_type": "code",
   "execution_count": 2,
   "metadata": {},
   "outputs": [],
   "source": [
    "#filtrado de ciberseguridad\n",
    "users_df = pd.read_json('data/users.json')\n",
    "users_clean_df = users_df.drop(columns=['_id', 'name', 'protected'])\n",
    "description_list = ['CyberSecurity', 'Cybersecurity', 'cybersecurity',\n",
    "'Red Team', 'Ciberseguridad', 'DFIR', 'Security',\n",
    "'Hacker', 'Pentester', 'CSIRT', 'CERT', 'Malware',\n",
    "'Seguridad', 'Blue Team', 'OWASP', 'Forensics', 'Cybercrime',\n",
    "'Threat Intelligence','CISA', 'CyberSeguridad', 'security', 'malware',\n",
    "'hacker', 'hacking', 'pentester', 'seguridad', 'ciberseguridad', 'cyber',\n",
    "'cybercrime','OSINT', 'infosec', 'cyberlawyer']\n",
    "cybersec_users = []\n",
    "\n",
    "for i in description_list:\n",
    "    tmp_df = users_clean_df[users_clean_df['description'].str.contains(i)]\n",
    "    tmp_list = tmp_df['id'].to_list()\n",
    "    cybersec_users = cybersec_users + tmp_list"
   ]
  },
  {
   "cell_type": "markdown",
   "metadata": {},
   "source": [
    "FILTRADOS PARA INDRA"
   ]
  },
  {
   "cell_type": "code",
   "execution_count": 6,
   "metadata": {},
   "outputs": [],
   "source": [
    "users_indra_df = pd.read_json('data/data_indra/users.json')\n",
    "users_indra_clean_df = users_indra_df.drop(columns=['_id', 'name', 'protected'])\n",
    "description_list = ['IndraCompany', 'indracompany', 'indraempleo', 'minsaitbyindra', 'IndraenColombia', 'indraencolombia']\n",
    "indra_users = []\n",
    "indra_df = pd.DataFrame()\n",
    "\n",
    "#Se pasa el id para obtener lista y construir grafo con relaciones, si no sale vacio\n",
    "for i in description_list:\n",
    "    tmp_df = users_indra_clean_df[users_indra_clean_df['description'].str.contains(i)]\n",
    "    indra_df = indra_df.append(tmp_df, ignore_index=True)\n",
    "    tmp_list = tmp_df['id'].to_list()\n",
    "    indra_users = indra_users + tmp_list\n",
    "\n",
    "\n",
    "unique_indra_users = set(indra_users)\n",
    "indra_final_df  = indra_df.drop_duplicates(keep='first')"
   ]
  },
  {
   "cell_type": "code",
   "execution_count": 7,
   "metadata": {},
   "outputs": [],
   "source": [
    "#LECTURA DE LOS JSON DE SEGUIDORES PARA AMBAS EMPRESAS\n",
    "\n",
    "follows_df = pd.read_json(\"data/follows.json\")\n",
    "follows_indra_df = pd.read_json(\"data/data_indra/follows.json\")"
   ]
  },
  {
   "cell_type": "markdown",
   "metadata": {},
   "source": [
    "MERGE DE JSON PARA S2 GRUPO"
   ]
  },
  {
   "cell_type": "code",
   "execution_count": 4,
   "metadata": {},
   "outputs": [
    {
     "data": {
      "text/plain": [
       "id             object\n",
       "idfollowing    object\n",
       "name           object\n",
       "username       object\n",
       "description    object\n",
       "dtype: object"
      ]
     },
     "execution_count": 4,
     "metadata": {},
     "output_type": "execute_result"
    }
   ],
   "source": [
    "#MERGE DE DATASETS EN S2 GRUPO\n",
    "merged_df = pd.merge(follows_df, users_df, on=\"id\")\n",
    "merged_df.drop([\"_id_x\", \"_id_y\", \"protected\"], axis=1, inplace=True)\n",
    "\n",
    "merged_df.id = merged_df.id.apply(str)\n",
    "merged_df.idfollowing = merged_df.idfollowing.apply(str)\n",
    "\n",
    "merged_df[\"description\"] = merged_df[\"description\"].str.lower()\n",
    "merged_df.drop_duplicates(keep=\"first\", inplace=True)\n",
    "merged_df.reset_index(inplace=True, drop=True)"
   ]
  },
  {
   "cell_type": "markdown",
   "metadata": {},
   "source": [
    "MERGE DE JSON PARA INDRA"
   ]
  },
  {
   "cell_type": "code",
   "execution_count": 8,
   "metadata": {},
   "outputs": [
    {
     "data": {
      "text/plain": [
       "id             object\n",
       "idfollowing    object\n",
       "name           object\n",
       "username       object\n",
       "description    object\n",
       "dtype: object"
      ]
     },
     "execution_count": 8,
     "metadata": {},
     "output_type": "execute_result"
    }
   ],
   "source": [
    "#MERGE DE DATASETS EN INDRA\n",
    "indra_merged_df = pd.merge(follows_indra_df, users_indra_df, on=\"id\")\n",
    "indra_merged_df.drop([\"_id_x\", \"_id_y\", \"protected\"], axis=1, inplace=True)\n",
    "\n",
    "indra_merged_df.id = indra_merged_df.id.apply(str)\n",
    "indra_merged_df.idfollowing = indra_merged_df.idfollowing.apply(str)\n",
    "\n",
    "indra_merged_df[\"description\"] = indra_merged_df[\"description\"].str.lower()\n",
    "indra_merged_df.drop_duplicates(keep=\"first\", inplace=True)\n",
    "indra_merged_df.reset_index(inplace=True, drop=True)"
   ]
  },
  {
   "cell_type": "markdown",
   "metadata": {},
   "source": [
    "CONSTRUCCIÓN DE GRAFO TOTAL PARA S2 GRUPO"
   ]
  },
  {
   "cell_type": "code",
   "execution_count": 5,
   "metadata": {},
   "outputs": [
    {
     "name": "stderr",
     "output_type": "stream",
     "text": [
      "<ipython-input-1-a7d7f941328f>:30: DeprecationWarning: info is deprecated and will be removed in version 3.0.\n",
      "\n",
      "  string = nx.info(G)\n"
     ]
    },
    {
     "name": "stdout",
     "output_type": "stream",
     "text": [
      "DiGraph with 344913 nodes and 475156 edges\n"
     ]
    }
   ],
   "source": [
    "G_final = __build_graph(merged_df, [\"id\", \"idfollowing\"])\n",
    "G_edges = nx.to_pandas_edgelist(G_final)\n",
    "G_nodes = list(G_final.nodes())\n",
    "G_df = pd.DataFrame(G_nodes, columns=['Id'])"
   ]
  },
  {
   "cell_type": "code",
   "execution_count": 36,
   "metadata": {},
   "outputs": [],
   "source": [
    "#GRAFO CON TODOS LOS NODOS Y ARISTAS DE S2\n",
    "G_edges.to_csv(\"graphs/py_csv/G_edges.csv\", index=False)\n",
    "G_df.to_csv(\"graphs/py_csv/G_nodes.csv\", index=False)"
   ]
  },
  {
   "cell_type": "markdown",
   "metadata": {},
   "source": [
    "CONSTRUCCION DE GRAFO TOTAL PARA INDRA"
   ]
  },
  {
   "cell_type": "code",
   "execution_count": 12,
   "metadata": {},
   "outputs": [
    {
     "name": "stderr",
     "output_type": "stream",
     "text": [
      "C:\\Users\\...\\AppData\\Local\\Temp/ipykernel/1963965956.py:30: DeprecationWarning: info is deprecated and will be removed in version 3.0.\n",
      "\n",
      "  string = nx.info(G)\n"
     ]
    },
    {
     "name": "stdout",
     "output_type": "stream",
     "text": [
      "DiGraph with 273516 nodes and 350141 edges\n"
     ]
    }
   ],
   "source": [
    "indra_G_final = __build_graph(indra_merged_df, [\"id\", \"idfollowing\"])\n",
    "indra_G_edges = nx.to_pandas_edgelist(indra_G_final)\n",
    "indra_G_nodes = list(indra_G_final.nodes())\n",
    "indra_G_df = pd.DataFrame(indra_G_nodes, columns=['Id'])"
   ]
  },
  {
   "cell_type": "code",
   "execution_count": 10,
   "metadata": {},
   "outputs": [],
   "source": [
    "#GRAFO CON TODOS LOS NODOS Y ARISTAS DE INDRA\n",
    "indra_G_edges.to_csv(\"graphs/py_csv/indra_G_edges.csv\", index=False)\n",
    "indra_G_df.to_csv(\"graphs/py_csv/indra_G_nodes.csv\", index=False)"
   ]
  },
  {
   "cell_type": "markdown",
   "metadata": {},
   "source": [
    "SUBGRAFOS FILTRADOS S2 GRUPO"
   ]
  },
  {
   "cell_type": "code",
   "execution_count": 8,
   "metadata": {},
   "outputs": [
    {
     "name": "stdout",
     "output_type": "stream",
     "text": [
      "<class 'pandas.core.frame.DataFrame'>\n"
     ]
    },
    {
     "name": "stderr",
     "output_type": "stream",
     "text": [
      "<ipython-input-8-ef29c9104498>:6: DeprecationWarning: info is deprecated and will be removed in version 3.0.\n",
      "\n",
      "  nx.info(G_s2)\n"
     ]
    },
    {
     "data": {
      "text/plain": [
       "'DiGraph with 19 nodes and 46 edges'"
      ]
     },
     "execution_count": 8,
     "metadata": {},
     "output_type": "execute_result"
    }
   ],
   "source": [
    "print(type(merged_df))\n",
    "G_s2 = G_final.subgraph([str(elem) for elem in s2_users])\n",
    "G_s2_edges = nx.to_pandas_edgelist(G_s2)\n",
    "G_s2_nodes = list(G_s2.nodes())\n",
    "G_s2_df = pd.DataFrame(G_s2_nodes, columns=['Id'])\n",
    "nx.info(G_s2)\n"
   ]
  },
  {
   "cell_type": "code",
   "execution_count": 9,
   "metadata": {},
   "outputs": [],
   "source": [
    "#GRAFO DE TRABAJADORES FILTRADOS DE S2\n",
    "G_s2_edges.to_csv(\"graphs/py_csv/G_s2_edges.csv\", index=False)\n",
    "G_s2_df.to_csv(\"graphs/py_csv/G_s2_nodes.csv\", index=False)"
   ]
  },
  {
   "cell_type": "code",
   "execution_count": 18,
   "metadata": {},
   "outputs": [],
   "source": [
    "#__plot_graph(G_s2, threshold=0) #Prueba para plotear el grafo usando NetworkX"
   ]
  },
  {
   "cell_type": "code",
   "execution_count": 6,
   "metadata": {},
   "outputs": [
    {
     "name": "stderr",
     "output_type": "stream",
     "text": [
      "<ipython-input-6-8f50902860f7>:6: DeprecationWarning: info is deprecated and will be removed in version 3.0.\n",
      "\n",
      "  nx.info(G_cyber)\n"
     ]
    },
    {
     "data": {
      "text/plain": [
       "'DiGraph with 13329 nodes and 12550 edges'"
      ]
     },
     "execution_count": 6,
     "metadata": {},
     "output_type": "execute_result"
    }
   ],
   "source": [
    "#GRAFO CON FILTRADO POR AREA DE CIBERSEGURIDAD\n",
    "G_cyber = G_final.subgraph([str(elem) for elem in cybersec_users])\n",
    "G_cyber_edges = nx.to_pandas_edgelist(G_cyber)\n",
    "G_cyber_nodes = list(G_cyber.nodes())\n",
    "G_cyber_df = pd.DataFrame(G_cyber_nodes, columns=['Id'])\n",
    "nx.info(G_cyber)"
   ]
  },
  {
   "cell_type": "code",
   "execution_count": null,
   "metadata": {},
   "outputs": [],
   "source": [
    "G_cyber_edges.to_csv(\"graphs/py_csv/G_cyber_edges.csv\", index=False)\n",
    "G_cyber_df.to_csv(\"graphs/py_csv/G_cyber_nodes.csv\", index=False)"
   ]
  },
  {
   "cell_type": "markdown",
   "metadata": {},
   "source": [
    "SUBGRAFOS FILTRADOS INDRA"
   ]
  },
  {
   "cell_type": "code",
   "execution_count": 30,
   "metadata": {},
   "outputs": [
    {
     "name": "stderr",
     "output_type": "stream",
     "text": [
      "C:\\Users\\...\\AppData\\Local\\Temp/ipykernel/3730343190.py:9: DeprecationWarning: info is deprecated and will be removed in version 3.0.\n",
      "\n",
      "  nx.info(G_indra)\n"
     ]
    },
    {
     "data": {
      "text/plain": [
       "'DiGraph with 55 nodes and 68 edges'"
      ]
     },
     "execution_count": 30,
     "metadata": {},
     "output_type": "execute_result"
    }
   ],
   "source": [
    "indra_users.append(73355170)\n",
    "indra_users.append(390698642)\n",
    "indra_users.append(4877558602)\n",
    "\n",
    "G_indra = indra_G_final.subgraph([str(elem) for elem in indra_users])\n",
    "G_indra_edges = nx.to_pandas_edgelist(G_indra)\n",
    "G_indra_nodes = list(G_indra.nodes())\n",
    "G_indra_df = pd.DataFrame(G_indra_nodes, columns=['Id'])\n",
    "nx.info(G_indra)\n",
    "\n"
   ]
  },
  {
   "cell_type": "code",
   "execution_count": 31,
   "metadata": {},
   "outputs": [],
   "source": [
    "#GRAFO DE TRABAJADORES FILTRADOS DE INDRA\n",
    "G_indra_edges.to_csv(\"graphs/py_csv/subG_indra_edges.csv\", index=False)\n",
    "G_indra_df.to_csv(\"graphs/py_csv/subG_indra_nodes.csv\", index=False)"
   ]
  },
  {
   "cell_type": "markdown",
   "metadata": {},
   "source": [
    "PRUEBAS DE LAS PRIMERAS VERSIONES (DEPRECATED)"
   ]
  },
  {
   "cell_type": "code",
   "execution_count": 59,
   "metadata": {},
   "outputs": [],
   "source": [
    "#edges = [(elem['id'], elem['idfollowing'], elem['username'], elem['description']) for elem in data3]\n",
    "#edges = [(elem['id'], elem['username'], elem['description']) for elem in data2] #si cargo esto no existen relaciones en el grafo"
   ]
  },
  {
   "cell_type": "code",
   "execution_count": null,
   "metadata": {},
   "outputs": [],
   "source": [
    "#G = __build_graph(pd.DataFrame(edges), [0, 1], directed=True, weigths=False)\n",
    "#G2 = G.subgraph([str(elem) for elem in s2_users])\n",
    "#final_edges = nx.to_pandas_edgelist(G2)\n",
    "#s2_edges = nx.to_pandas_edgelist(G)"
   ]
  },
  {
   "cell_type": "code",
   "execution_count": null,
   "metadata": {},
   "outputs": [],
   "source": [
    "#s2_nodes = list(G.nodes())\n",
    "#s2_nodes_df = pd.DataFrame(s2_nodes, columns=['Id'])\n",
    "#final_nodes_df = pd.DataFrame(s2_users, columns=['Id'])"
   ]
  },
  {
   "cell_type": "code",
   "execution_count": null,
   "metadata": {},
   "outputs": [],
   "source": [
    "#s2_edges.to_csv(\"edges.csv\")\n",
    "#s2_nodes_df.to_csv(\"nodes.csv\")\n",
    "#final_edges.to_csv(\"edges2.csv\")\n",
    "#final_nodes_df.to_csv(\"nodes2.csv\")"
   ]
  },
  {
   "cell_type": "code",
   "execution_count": 67,
   "metadata": {},
   "outputs": [
    {
     "data": {
      "image/png": "[encoded data removed]",
      "text/plain": [
       "<Figure size 1224x1008 with 1 Axes>"
      ]
     },
     "metadata": {},
     "output_type": "display_data"
    }
   ],
   "source": [
    "#__plot_graph(G2, threshold=2)"
   ]
  },
  {
   "cell_type": "code",
   "execution_count": null,
   "metadata": {},
   "outputs": [],
   "source": [
    "# Filtrar por usuario y sus seguidores del grafo inicial\n",
    "#df = pd.DataFrame(edges, columns=[\"source\", \"target\"])\n",
    "#node_list = list(df[df[\"target\"] == \"45396268\"][\"source\"].values) + [\"45396268\"]\n",
    "#final_nodes = df[df[\"target\"] == \"45396268\"][\"source\"].values + [\"45396268\"]\n",
    "#G2 = G.subgraph(node_list)\n",
    "\n",
    "#final_nodes_df = pd.DataFrame(final_nodes, columns=['Id'])\n",
    "#final_edges = nx.to_pandas_edgelist(G2)\n",
    "#final_edges.to_csv(\"edges.csv\")\n",
    "#final_nodes_df.to_csv(\"nodes.csv\")"
   ]
  }
 ],
 "metadata": {
  "interpreter": {
   "hash": "765217ef66d881bcb65b1c7d7b9e900019a7c377343635ffad60b22b8005f156"
  },
  "kernelspec": {
   "display_name": "Python 3.9.7 64-bit",
   "language": "python",
   "name": "python3"
  },
  "language_info": {
   "codemirror_mode": {
    "name": "ipython",
    "version": 3
   },
   "file_extension": ".py",
   "mimetype": "text/x-python",
   "name": "python",
   "nbconvert_exporter": "python",
   "pygments_lexer": "ipython3",
   "version": "3.9.7"
  }
 },
 "nbformat": 4,
 "nbformat_minor": 4
}
